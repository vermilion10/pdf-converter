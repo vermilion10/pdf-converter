{
  "cells": [
    {
      "cell_type": "code",
      "source": [
        "print(\"⚙️ meninstal library python yang dibutuhkan...\")\n",
        "!pip install PyMuPDF python-docx pdf2docx -qq\n",
        "\n",
        "print(\"\\n✅ instalasi selesai! anda bisa melanjutkan ke blok berikutnya\")"
      ],
      "outputs": [],
      "execution_count": null,
      "metadata": {
        "id": "rndCDkSE4QnB"
      }
    },
    {
      "cell_type": "code",
      "source": [
        "# upload file pdf disini\n",
        "import os\n",
        "from google.colab import files\n",
        "import shutil\n",
        "\n",
        "pdf_filename = None\n",
        "\n",
        "if 'output_images' in os.listdir():\n",
        "    shutil.rmtree('output_images')\n",
        "for f in os.listdir():\n",
        "    if f.endswith(('.pdf', '.docx', '.zip')):\n",
        "        os.remove(f)\n",
        "\n",
        "print(\"📤 silakan unggah file pdf yang ingin Anda konversi:\")\n",
        "try:\n",
        "    uploaded = files.upload()\n",
        "\n",
        "    if not uploaded:\n",
        "        print(\"\\n⚠️ tidak ada file yang diunggah. silakan jalankan kembali blok ini untuk mencoba lagi.\")\n",
        "    else:\n",
        "        pdf_filename = list(uploaded.keys())[0]\n",
        "        print(f\"\\n✅ file '{pdf_filename}' berhasil diunggah dan siap untuk dikonversi.\")\n",
        "\n",
        "except Exception as e:\n",
        "    print(f\"\\n terjadi kesalahan saat mengunggah: {e}\")"
      ],
      "metadata": {
        "id": "kjxG_to04jhP"
      },
      "execution_count": null,
      "outputs": []
    },
    {
      "cell_type": "code",
      "metadata": {
        "id": "b3a8b9d6"
      },
      "source": [
        "# convert ke docx\n",
        "import os\n",
        "from google.colab import files\n",
        "from pdf2docx import parse\n",
        "\n",
        "if 'pdf_filename' in locals() and pdf_filename and os.path.exists(pdf_filename):\n",
        "    print(f\"🚀 memulai konversi '{pdf_filename}' ke docx...\")\n",
        "\n",
        "    try:\n",
        "        output_docx_name = os.path.splitext(pdf_filename)[0] + '_hasil_convert.docx'\n",
        "\n",
        "        parse(pdf_filename, output_docx_name)\n",
        "\n",
        "        print(f\"\\n🎉 knversi ke docx selesai! File disimpan sebagai '{output_docx_name}'.\")\n",
        "        print(\"mempersiapkan file untuk diunduh...\")\n",
        "\n",
        "        files.download(output_docx_name)\n",
        "\n",
        "    except Exception as e:\n",
        "        print(f\"\\n❌ terjadi kesalahan fatal saat konversi ke docx dengan pdf2docx: {e}\")\n",
        "        print(\"coba periksa apakah file pdf tidak rusak atau dilindungi pasword.\")\n",
        "else:\n",
        "    print(\"⚠️ silakan jalankan blok 1 dan blok 2 terlebih dahulu, dan pastikan file pdf berhasil diunggah.\")"
      ],
      "execution_count": null,
      "outputs": []
    },
    {
      "cell_type": "code",
      "source": [
        "# convert ke png\n",
        "import fitz\n",
        "import os\n",
        "import shutil\n",
        "from google.colab import files\n",
        "\n",
        "if 'pdf_filename' in locals() and pdf_filename:\n",
        "    print(f\"🖼️ memulai konversi '{pdf_filename}' ke gambar (png)...\")\n",
        "\n",
        "    try:\n",
        "        pdf_document = fitz.open(pdf_filename)\n",
        "        output_folder = 'hasil_gambar'\n",
        "\n",
        "        if not os.path.exists(output_folder):\n",
        "            os.makedirs(output_folder)\n",
        "\n",
        "        total_pages = len(pdf_document)\n",
        "        print(f\"total halaman yang akan dikonversi: {total_pages}\")\n",
        "\n",
        "        for page_num in range(total_pages):\n",
        "            print(f\"-> mengonversi halaman {page_num + 1} dari {total_pages}...\")\n",
        "            page = pdf_document.load_page(page_num)\n",
        "            pix = page.get_pixmap(dpi=200) #ganti kualitaas\n",
        "            output_image_path = os.path.join(output_folder, f\"halaman_{page_num + 1}.png\")\n",
        "            pix.save(output_image_path)\n",
        "\n",
        "        pdf_document.close()\n",
        "        print(f\"\\n✅ semua {total_pages} halaman telah dikonversi menjadi gambar di folder '{output_folder}'.\")\n",
        "\n",
        "        zip_output_name = os.path.splitext(pdf_filename)[0] + '_gambar'\n",
        "        shutil.make_archive(zip_output_name, 'zip', output_folder)\n",
        "\n",
        "        print(f\"🎉 folder telah dikompres menjadi '{zip_output_name}.zip'.\")\n",
        "        print(\"mempersiapkan file untuk diunduh...\")\n",
        "\n",
        "        files.download(f\"{zip_output_name}.zip\")\n",
        "\n",
        "    except Exception as e:\n",
        "        print(f\"\\n❌ terjadi kesalahan saat konversi ke gambar: {e}\")\n",
        "else:\n",
        "    print(\"⚠️ sialakn jalankan blok 2 terlebih dahulu untuk mengunggah file pdf.\")\n",
        "\n"
      ],
      "metadata": {
        "id": "NfNQnSuy476L"
      },
      "execution_count": null,
      "outputs": []
    }
  ],
  "metadata": {
    "colab": {
      "provenance": []
    },
    "kernelspec": {
      "display_name": "Python 3",
      "name": "python3"
    }
  },
  "nbformat": 4,
  "nbformat_minor": 0
}